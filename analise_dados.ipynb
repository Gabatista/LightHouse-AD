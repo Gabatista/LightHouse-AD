{
 "cells": [
  {
   "cell_type": "markdown",
   "id": "c2de1fda-2e89-4e2d-b02d-e347fc2cc67d",
   "metadata": {},
   "source": [
    "Analise Dados"
   ]
  },
  {
   "cell_type": "code",
   "execution_count": 69,
   "id": "b984cc17-f302-4119-bda9-b131f219d885",
   "metadata": {},
   "outputs": [],
   "source": [
    "#Importando as bibliotecas\n",
    "import numpy as np\n",
    "import pandas as pd"
   ]
  },
  {
   "cell_type": "code",
   "execution_count": 70,
   "id": "26c49f2a-ddec-4cdc-a79d-750c9b007dc6",
   "metadata": {},
   "outputs": [],
   "source": [
    "#Lendo os arquivos\n",
    "pd.set_option('display.max_columns', None)\n",
    "\n",
    "#leitura dos arquivos csv\n",
    "df_agencias = pd.read_csv(r\"C:\\Users\\UC396QV\\OneDrive - EY\\Desktop\\Lighthouse\\analise de dados\\banvic_data\\agencias.csv\")\n",
    "df_clientes = pd.read_csv(r\"C:\\Users\\UC396QV\\OneDrive - EY\\Desktop\\Lighthouse\\analise de dados\\banvic_data\\clientes.csv\")\n",
    "df_colaborador_agencia = pd.read_csv(r\"C:\\Users\\UC396QV\\OneDrive - EY\\Desktop\\Lighthouse\\analise de dados\\banvic_data\\colaborador_agencia.csv\")\n",
    "df_colaborador = pd.read_csv(r\"C:\\Users\\UC396QV\\OneDrive - EY\\Desktop\\Lighthouse\\analise de dados\\banvic_data\\colaboradores.csv\")\n",
    "df_contas = pd.read_csv(r\"C:\\Users\\UC396QV\\OneDrive - EY\\Desktop\\Lighthouse\\analise de dados\\banvic_data\\contas.csv\")\n",
    "df_propostas_credito = pd.read_csv(r\"C:\\Users\\UC396QV\\OneDrive - EY\\Desktop\\Lighthouse\\analise de dados\\banvic_data\\propostas_credito.csv\")\n",
    "df_transacoes = pd.read_csv(r\"C:\\Users\\UC396QV\\OneDrive - EY\\Desktop\\Lighthouse\\analise de dados\\banvic_data\\transacoes.csv\")"
   ]
  },
  {
   "cell_type": "markdown",
   "id": "58aef08d-bcb3-4f09-a64a-9868c8d42725",
   "metadata": {},
   "source": [
    "Agencias por estado"
   ]
  },
  {
   "cell_type": "code",
   "execution_count": 71,
   "id": "be6f0fe5-791a-4a82-999f-c28d2d1bb7d1",
   "metadata": {},
   "outputs": [
    {
     "name": "stdout",
     "output_type": "stream",
     "text": [
      "uf\n",
      "PE    1\n",
      "RJ    1\n",
      "RS    1\n",
      "SC    1\n",
      "SP    6\n",
      "Name: uf, dtype: int64\n"
     ]
    }
   ],
   "source": [
    "estado = df_agencias.groupby('uf')['uf'].count()\n",
    "print(estado)"
   ]
  },
  {
   "cell_type": "markdown",
   "id": "fee86088-eef4-487e-950b-6c7c53d79c31",
   "metadata": {},
   "source": [
    "Obtendo clientes por estado\n",
    "Nesse caso sempre a sigla do estado eram os 2 últimos caracteres da coluna 'endereço'\n",
    "Então foi feito tratamento para obter esses dados em uma nova coluna e foi feito seu agrupamento"
   ]
  },
  {
   "cell_type": "code",
   "execution_count": 72,
   "id": "90920a62-25f8-4863-a9f2-f4d80733c702",
   "metadata": {},
   "outputs": [
    {
     "name": "stdout",
     "output_type": "stream",
     "text": [
      "uf\n",
      "AM    53\n",
      "ES    49\n",
      "SP    48\n",
      "MS    47\n",
      "MA    44\n",
      "CE    43\n",
      "RR    41\n",
      "AL    40\n",
      "MG    40\n",
      "AC    38\n",
      "SC    37\n",
      "PB    37\n",
      "TO    37\n",
      "RS    35\n",
      "AP    35\n",
      "GO    34\n",
      "RN    34\n",
      "BA    34\n",
      "PR    33\n",
      "DF    33\n",
      "PA    33\n",
      "RJ    32\n",
      "PI    31\n",
      "SE    29\n",
      "MT    28\n",
      "PE    28\n",
      "RO    25\n",
      "Name: uf, dtype: int64\n"
     ]
    }
   ],
   "source": [
    "df_clientes['uf'] = df_clientes['endereco'].str[-2:]\n",
    "#print(df_clientes)\n",
    "\n",
    "clientes_estado = df_clientes.groupby('uf')['uf'].count().sort_values(ascending=False)\n",
    "print(clientes_estado)"
   ]
  },
  {
   "cell_type": "markdown",
   "id": "09c2ddb0-cc70-4202-b3e9-e725cbf8cf2d",
   "metadata": {},
   "source": [
    "Para agrupar por ano de nascimento foi feito lógica semelhante\n",
    "Com a diferença de que o ano de nascimento eram os 4 primeiros caracterers do campo 'data_nascimento'"
   ]
  },
  {
   "cell_type": "code",
   "execution_count": 73,
   "id": "242ba672-6ca3-467b-81ae-78190c6053ea",
   "metadata": {},
   "outputs": [
    {
     "name": "stdout",
     "output_type": "stream",
     "text": [
      "ano_nascimento\n",
      "1942    10\n",
      "1943    16\n",
      "1944    16\n",
      "1945    13\n",
      "1946    15\n",
      "        ..\n",
      "2003    16\n",
      "2004     8\n",
      "2005    19\n",
      "2006    17\n",
      "2007     6\n",
      "Name: ano_nascimento, Length: 66, dtype: int64\n"
     ]
    }
   ],
   "source": [
    "df_clientes['ano_nascimento'] = df_clientes['data_nascimento'].str[:4]\n",
    "ano_nasc_clientes = df_clientes.groupby('ano_nascimento')['ano_nascimento'].count()\n",
    "#clientes_nascimento.columns = [\"index\",\"ano\"]\n",
    "#clientes_nascimento.groupby('data_nascimento')['data_nascimento'].count().sort_values(ascending=False)\n",
    "#ano = clientes_nascimento.groupby(clientes_nascimento)\n",
    "print(ano_nasc_clientes)"
   ]
  },
  {
   "cell_type": "code",
   "execution_count": 74,
   "id": "101a23d3-abd8-4487-ad26-9de8d6d65a6c",
   "metadata": {},
   "outputs": [
    {
     "ename": "SyntaxError",
     "evalue": "invalid syntax (28035348.py, line 1)",
     "output_type": "error",
     "traceback": [
      "\u001b[1;36m  Cell \u001b[1;32mIn[74], line 1\u001b[1;36m\u001b[0m\n\u001b[1;33m    A contagem por geração de idade foi feita manualmente, mas poderia também ser feita via código\u001b[0m\n\u001b[1;37m      ^\u001b[0m\n\u001b[1;31mSyntaxError\u001b[0m\u001b[1;31m:\u001b[0m invalid syntax\n"
     ]
    }
   ],
   "source": [
    "A contagem por geração de idade foi feita manualmente, mas poderia também ser feita via código"
   ]
  },
  {
   "cell_type": "markdown",
   "id": "ff15cb46-d1f0-4f02-9a27-1ff0ea473894",
   "metadata": {},
   "source": [
    "Obtenção de tipo de cliente (PJ ou PF), realizando agrupamento pela coluna 'tipo_cliente'"
   ]
  },
  {
   "cell_type": "code",
   "execution_count": 75,
   "id": "b0037c09-5f7e-4a62-8f57-fbb5dd286503",
   "metadata": {},
   "outputs": [
    {
     "name": "stdout",
     "output_type": "stream",
     "text": [
      "tipo_cliente\n",
      "PF    998\n",
      "Name: tipo_cliente, dtype: int64\n"
     ]
    }
   ],
   "source": [
    "tipo_cliente = df_clientes.groupby('tipo_cliente')['tipo_cliente'].count().sort_values(ascending=False)\n",
    "print(tipo_cliente)"
   ]
  },
  {
   "cell_type": "markdown",
   "id": "92f5d5e3-3979-4293-bffc-f76a09fe96a6",
   "metadata": {},
   "source": [
    "Agora focando nos colaboradores, foi feito agrupamento por agência"
   ]
  },
  {
   "cell_type": "code",
   "execution_count": 76,
   "id": "7df11ddb-a215-402a-8aee-16c5b366d653",
   "metadata": {},
   "outputs": [
    {
     "name": "stdout",
     "output_type": "stream",
     "text": [
      "cod_agencia\n",
      "1     16\n",
      "2     13\n",
      "3     11\n",
      "4      4\n",
      "5     13\n",
      "6     11\n",
      "7      7\n",
      "8      7\n",
      "9      8\n",
      "10    10\n",
      "Name: cod_agencia, dtype: int64\n"
     ]
    }
   ],
   "source": [
    "colaborador = df_colaborador_agencia.groupby('cod_agencia')['cod_agencia'].count()\n",
    "print(colaborador)"
   ]
  },
  {
   "cell_type": "markdown",
   "id": "abc35248-3ff4-42e8-a229-d9000c1f254b",
   "metadata": {},
   "source": [
    "Clientes por colaborador"
   ]
  },
  {
   "cell_type": "code",
   "execution_count": 77,
   "id": "2837891f-96d4-454d-ad85-54395ffab60a",
   "metadata": {},
   "outputs": [
    {
     "name": "stdout",
     "output_type": "stream",
     "text": [
      "cod_colaborador\n",
      "26     84\n",
      "20     69\n",
      "84     67\n",
      "64     62\n",
      "48     61\n",
      "       ..\n",
      "18      1\n",
      "95      1\n",
      "44      1\n",
      "74      1\n",
      "100     1\n",
      "Name: num_conta, Length: 94, dtype: int64\n"
     ]
    }
   ],
   "source": [
    "clie_por_colab = df_contas.groupby('cod_colaborador')['num_conta'].count().sort_values(ascending=False)\n",
    "print(clie_por_colab)"
   ]
  },
  {
   "cell_type": "markdown",
   "id": "1eed9fba-0a9c-42fe-80b1-e64362637a80",
   "metadata": {},
   "source": [
    "Agrupamento por ano de nascimento do colaborador"
   ]
  },
  {
   "cell_type": "code",
   "execution_count": 78,
   "id": "ade5c0db-072b-4664-9ebf-8eaddcea001b",
   "metadata": {},
   "outputs": [
    {
     "name": "stdout",
     "output_type": "stream",
     "text": [
      "ano_nascimento\n",
      "1962    1\n",
      "1963    6\n",
      "1964    3\n",
      "1965    1\n",
      "1966    3\n",
      "1967    3\n",
      "1968    2\n",
      "1969    3\n",
      "1970    4\n",
      "1971    1\n",
      "1973    4\n",
      "1974    3\n",
      "1975    4\n",
      "1976    3\n",
      "1977    5\n",
      "1978    4\n",
      "1979    1\n",
      "1980    3\n",
      "1981    3\n",
      "1982    2\n",
      "1983    1\n",
      "1985    5\n",
      "1986    3\n",
      "1987    1\n",
      "1988    1\n",
      "1989    2\n",
      "1990    3\n",
      "1991    5\n",
      "1992    2\n",
      "1993    5\n",
      "1994    4\n",
      "1995    2\n",
      "1996    3\n",
      "1997    3\n",
      "1998    1\n",
      "Name: ano_nascimento, dtype: int64\n"
     ]
    }
   ],
   "source": [
    "df_colaborador['ano_nascimento'] = df_colaborador['data_nascimento'].str[:4]\n",
    "ano_nasc_colaborador = df_colaborador.groupby('ano_nascimento')['ano_nascimento'].count()\n",
    "print(ano_nasc_colaborador)"
   ]
  },
  {
   "cell_type": "markdown",
   "id": "50280b1e-2268-4b6d-8342-a1bbd0a9da8a",
   "metadata": {},
   "source": [
    "Realizando merge dos datasets de colaborador e colaborador_agencia usando o codigo de colaborador como chave comum a ambas\n",
    "Para obter o estador por colaborador"
   ]
  },
  {
   "cell_type": "markdown",
   "id": "efe15956-a67f-45b4-9417-06c6267c6939",
   "metadata": {},
   "source": [
    "Adicionando coluna de 'uf' para abrigar a sigla do estado de cada colaborador"
   ]
  },
  {
   "cell_type": "code",
   "execution_count": 79,
   "id": "9fc8bb17-29d0-44c4-bacc-69fd3fb58f94",
   "metadata": {},
   "outputs": [],
   "source": [
    "df_colaborador['uf'] = df_colaborador['endereco'].str[-2:]"
   ]
  },
  {
   "cell_type": "code",
   "execution_count": 80,
   "id": "4aaa0771-d469-415e-a09c-881421f16b21",
   "metadata": {},
   "outputs": [
    {
     "name": "stdout",
     "output_type": "stream",
     "text": [
      "uf\n",
      "PE    8\n",
      "AM    7\n",
      "SC    7\n",
      "SE    6\n",
      "MS    6\n",
      "RJ    5\n",
      "RR    5\n",
      "CE    5\n",
      "RN    4\n",
      "MT    4\n",
      "MA    4\n",
      "PB    3\n",
      "TO    3\n",
      "RO    3\n",
      "GO    3\n",
      "ES    3\n",
      "DF    3\n",
      "BA    3\n",
      "AP    3\n",
      "SP    3\n",
      "AC    2\n",
      "PR    2\n",
      "PI    2\n",
      "MG    2\n",
      "PA    2\n",
      "RS    1\n",
      "AL    1\n",
      "Name: uf, dtype: int64\n"
     ]
    }
   ],
   "source": [
    "df_colaboradores = df_colaborador_agencia.merge(df_colaborador[['cod_colaborador','ano_nascimento','uf']],on='cod_colaborador',how='left')\n",
    "colaborador_uf = df_colaboradores.groupby('uf')['uf'].count().sort_values(ascending=False)\n",
    "print(colaborador_uf)"
   ]
  },
  {
   "cell_type": "markdown",
   "id": "93f6031f-a655-4936-bd0e-8571034bcfa9",
   "metadata": {},
   "source": [
    "# 3.1 Trimestre com mais transações"
   ]
  },
  {
   "cell_type": "markdown",
   "id": "5c4636fa-48af-4868-a598-b0da0994c451",
   "metadata": {},
   "source": [
    "Dado que a data das transações está no formato YYYY-MM-DD, podemos presumir sempre que a data será 2 números delimitados por '-' e ','\n",
    "Sendo o mês obtido da seguinte maneira"
   ]
  },
  {
   "cell_type": "markdown",
   "id": "a41c6f59-7983-47ef-91af-07c569b5efdc",
   "metadata": {},
   "source": [
    "Adicionar uma coluna que ficará apenas com os meses"
   ]
  },
  {
   "cell_type": "code",
   "execution_count": 81,
   "id": "55735046-4762-4106-a626-8cb175b75405",
   "metadata": {},
   "outputs": [
    {
     "ename": "SyntaxError",
     "evalue": "invalid syntax (4165257599.py, line 1)",
     "output_type": "error",
     "traceback": [
      "\u001b[1;36m  Cell \u001b[1;32mIn[81], line 1\u001b[1;36m\u001b[0m\n\u001b[1;33m    Porém antes é importante observar se a coluna de data está no formato correto\u001b[0m\n\u001b[1;37m          ^\u001b[0m\n\u001b[1;31mSyntaxError\u001b[0m\u001b[1;31m:\u001b[0m invalid syntax\n"
     ]
    }
   ],
   "source": [
    "Porém antes é importante observar se a coluna de data está no formato correto\n",
    "No caso estava no tipo objeto, sendo necessário realizar a conversão para tipo datetime\n",
    "Como não havia formato padronizado para os microsegundos, o format foi colocado como 'mixed' onde a inferência é feita em execução, sendo mais demorado porém mais preciso"
   ]
  },
  {
   "cell_type": "code",
   "execution_count": 82,
   "id": "3353c9e5-d6fb-4eb3-8ec4-5c996b65bb80",
   "metadata": {},
   "outputs": [
    {
     "name": "stdout",
     "output_type": "stream",
     "text": [
      "       cod_transacao  num_conta                   data_transacao  \\\n",
      "0               3100        256        2020-05-22 03:15:21+00:00   \n",
      "1              28405        256        2021-06-29 11:52:38+00:00   \n",
      "2               1776        512        2020-05-17 13:04:50+00:00   \n",
      "3              14311        512        2020-09-06 02:55:34+00:00   \n",
      "4              25012        512        2020-10-16 09:26:52+00:00   \n",
      "...              ...        ...                              ...   \n",
      "71994          17007        764 2022-12-29 23:59:59.746608+00:00   \n",
      "71995          22320        764 2022-12-29 23:59:59.055028+00:00   \n",
      "71996           8697        509        2012-05-07 13:45:41+00:00   \n",
      "71997          11574        766        2015-09-19 05:13:07+00:00   \n",
      "71998          64396        766 2022-12-29 23:59:59.607373+00:00   \n",
      "\n",
      "                         nome_transacao  valor_transacao  \n",
      "0                                 Saque           -130.0  \n",
      "1                                 Saque           -255.0  \n",
      "2                                 Saque           -250.0  \n",
      "3                                 Saque            -80.0  \n",
      "4                                 Saque           -475.0  \n",
      "...                                 ...              ...  \n",
      "71994  Transferência entre CC - Crédito             82.3  \n",
      "71995  Transferência entre CC - Crédito            414.8  \n",
      "71996  Transferência entre CC - Crédito            720.4  \n",
      "71997  Transferência entre CC - Crédito           1143.0  \n",
      "71998  Transferência entre CC - Crédito            420.7  \n",
      "\n",
      "[71999 rows x 5 columns]\n"
     ]
    }
   ],
   "source": [
    "df_transacoes['data_transacao'] = pd.to_datetime(df_transacoes['data_transacao'], format='mixed')\n",
    "print((df_transacoes))"
   ]
  },
  {
   "cell_type": "code",
   "execution_count": 83,
   "id": "60a6e33b-a642-47e4-8eb3-50f5b72447c4",
   "metadata": {},
   "outputs": [
    {
     "name": "stdout",
     "output_type": "stream",
     "text": [
      "cod_transacao                    int64\n",
      "num_conta                        int64\n",
      "data_transacao     datetime64[ns, UTC]\n",
      "nome_transacao                  object\n",
      "valor_transacao                float64\n",
      "dtype: object\n"
     ]
    }
   ],
   "source": [
    "print((df_transacoes.dtypes))"
   ]
  },
  {
   "cell_type": "markdown",
   "id": "6fed440e-b640-4f0c-97fb-e3d773c8afd5",
   "metadata": {},
   "source": [
    "Com o valor devidamente obtido, agora é feito a extração do mês"
   ]
  },
  {
   "cell_type": "code",
   "execution_count": 84,
   "id": "18eaa45b-6f83-4d2c-96d3-1496fc427569",
   "metadata": {},
   "outputs": [
    {
     "name": "stdout",
     "output_type": "stream",
     "text": [
      "       cod_transacao  num_conta                   data_transacao  \\\n",
      "0               3100        256        2020-05-22 03:15:21+00:00   \n",
      "1              28405        256        2021-06-29 11:52:38+00:00   \n",
      "2               1776        512        2020-05-17 13:04:50+00:00   \n",
      "3              14311        512        2020-09-06 02:55:34+00:00   \n",
      "4              25012        512        2020-10-16 09:26:52+00:00   \n",
      "...              ...        ...                              ...   \n",
      "71994          17007        764 2022-12-29 23:59:59.746608+00:00   \n",
      "71995          22320        764 2022-12-29 23:59:59.055028+00:00   \n",
      "71996           8697        509        2012-05-07 13:45:41+00:00   \n",
      "71997          11574        766        2015-09-19 05:13:07+00:00   \n",
      "71998          64396        766 2022-12-29 23:59:59.607373+00:00   \n",
      "\n",
      "                         nome_transacao  valor_transacao  mes  \n",
      "0                                 Saque           -130.0    5  \n",
      "1                                 Saque           -255.0    6  \n",
      "2                                 Saque           -250.0    5  \n",
      "3                                 Saque            -80.0    9  \n",
      "4                                 Saque           -475.0   10  \n",
      "...                                 ...              ...  ...  \n",
      "71994  Transferência entre CC - Crédito             82.3   12  \n",
      "71995  Transferência entre CC - Crédito            414.8   12  \n",
      "71996  Transferência entre CC - Crédito            720.4    5  \n",
      "71997  Transferência entre CC - Crédito           1143.0    9  \n",
      "71998  Transferência entre CC - Crédito            420.7   12  \n",
      "\n",
      "[71999 rows x 6 columns]\n"
     ]
    }
   ],
   "source": [
    "df_transacoes['mes'] = df_transacoes['data_transacao'].dt.month\n",
    "print(df_transacoes)"
   ]
  },
  {
   "cell_type": "markdown",
   "id": "479dc1f3-f6c6-42f4-a6b2-213db42e8a3f",
   "metadata": {},
   "source": [
    "Realizando o agrupamento por trimestre, levando em conta as movimentações feitas"
   ]
  },
  {
   "cell_type": "markdown",
   "id": "e1383d90-7e12-4225-bc6e-ba371449b414",
   "metadata": {},
   "source": [
    "Primeiro convertendo a coluna de valores negativos para positivos"
   ]
  },
  {
   "cell_type": "code",
   "execution_count": 85,
   "id": "2b11f446-9142-458f-93db-86b8ea1a1037",
   "metadata": {},
   "outputs": [],
   "source": [
    "df_transacoes['valor_transacao'] = df_transacoes['valor_transacao'].abs()"
   ]
  },
  {
   "cell_type": "markdown",
   "id": "6d65191c-9d0b-4ecf-8e4a-2f1577b824de",
   "metadata": {},
   "source": [
    "E por fim adicionando uma coluna de trimestre"
   ]
  },
  {
   "cell_type": "code",
   "execution_count": 86,
   "id": "fc86ac28-94f7-42fe-8857-8804042b957e",
   "metadata": {},
   "outputs": [
    {
     "name": "stderr",
     "output_type": "stream",
     "text": [
      "C:\\Users\\UC396QV\\AppData\\Local\\Temp\\ipykernel_8196\\1191444974.py:1: UserWarning: Converting to PeriodArray/Index representation will drop timezone information.\n",
      "  df_transacoes['trimestre'] = df_transacoes['data_transacao'].dt.to_period('Q')\n"
     ]
    }
   ],
   "source": [
    "df_transacoes['trimestre'] = df_transacoes['data_transacao'].dt.to_period('Q')"
   ]
  },
  {
   "cell_type": "code",
   "execution_count": 87,
   "id": "001156fd-8b3a-4b73-ac77-930cf4b82732",
   "metadata": {},
   "outputs": [
    {
     "name": "stdout",
     "output_type": "stream",
     "text": [
      "       cod_transacao  num_conta                   data_transacao  \\\n",
      "0               3100        256        2020-05-22 03:15:21+00:00   \n",
      "1              28405        256        2021-06-29 11:52:38+00:00   \n",
      "2               1776        512        2020-05-17 13:04:50+00:00   \n",
      "3              14311        512        2020-09-06 02:55:34+00:00   \n",
      "4              25012        512        2020-10-16 09:26:52+00:00   \n",
      "...              ...        ...                              ...   \n",
      "71994          17007        764 2022-12-29 23:59:59.746608+00:00   \n",
      "71995          22320        764 2022-12-29 23:59:59.055028+00:00   \n",
      "71996           8697        509        2012-05-07 13:45:41+00:00   \n",
      "71997          11574        766        2015-09-19 05:13:07+00:00   \n",
      "71998          64396        766 2022-12-29 23:59:59.607373+00:00   \n",
      "\n",
      "                         nome_transacao  valor_transacao  mes trimestre  \n",
      "0                                 Saque            130.0    5    2020Q2  \n",
      "1                                 Saque            255.0    6    2021Q2  \n",
      "2                                 Saque            250.0    5    2020Q2  \n",
      "3                                 Saque             80.0    9    2020Q3  \n",
      "4                                 Saque            475.0   10    2020Q4  \n",
      "...                                 ...              ...  ...       ...  \n",
      "71994  Transferência entre CC - Crédito             82.3   12    2022Q4  \n",
      "71995  Transferência entre CC - Crédito            414.8   12    2022Q4  \n",
      "71996  Transferência entre CC - Crédito            720.4    5    2012Q2  \n",
      "71997  Transferência entre CC - Crédito           1143.0    9    2015Q3  \n",
      "71998  Transferência entre CC - Crédito            420.7   12    2022Q4  \n",
      "\n",
      "[71999 rows x 7 columns]\n"
     ]
    }
   ],
   "source": [
    "print(df_transacoes)"
   ]
  },
  {
   "cell_type": "markdown",
   "id": "fa7b51a4-75ce-47e8-a241-48e97f9bc760",
   "metadata": {},
   "source": [
    "Agora converter a coluna trimestre de objeto para inteiro"
   ]
  },
  {
   "cell_type": "code",
   "execution_count": 95,
   "id": "b64f15e6-729f-4a97-afc4-835fbbf9b663",
   "metadata": {},
   "outputs": [
    {
     "name": "stdout",
     "output_type": "stream",
     "text": [
      "       cod_transacao  num_conta                   data_transacao  \\\n",
      "0               3100        256        2020-05-22 03:15:21+00:00   \n",
      "1              28405        256        2021-06-29 11:52:38+00:00   \n",
      "2               1776        512        2020-05-17 13:04:50+00:00   \n",
      "3              14311        512        2020-09-06 02:55:34+00:00   \n",
      "4              25012        512        2020-10-16 09:26:52+00:00   \n",
      "...              ...        ...                              ...   \n",
      "71994          17007        764 2022-12-29 23:59:59.746608+00:00   \n",
      "71995          22320        764 2022-12-29 23:59:59.055028+00:00   \n",
      "71996           8697        509        2012-05-07 13:45:41+00:00   \n",
      "71997          11574        766        2015-09-19 05:13:07+00:00   \n",
      "71998          64396        766 2022-12-29 23:59:59.607373+00:00   \n",
      "\n",
      "                         nome_transacao  valor_transacao  mes trimestre  \\\n",
      "0                                 Saque            130.0    5    2020Q2   \n",
      "1                                 Saque            255.0    6    2021Q2   \n",
      "2                                 Saque            250.0    5    2020Q2   \n",
      "3                                 Saque             80.0    9    2020Q3   \n",
      "4                                 Saque            475.0   10    2020Q4   \n",
      "...                                 ...              ...  ...       ...   \n",
      "71994  Transferência entre CC - Crédito             82.3   12    2022Q4   \n",
      "71995  Transferência entre CC - Crédito            414.8   12    2022Q4   \n",
      "71996  Transferência entre CC - Crédito            720.4    5    2012Q2   \n",
      "71997  Transferência entre CC - Crédito           1143.0    9    2015Q3   \n",
      "71998  Transferência entre CC - Crédito            420.7   12    2022Q4   \n",
      "\n",
      "      trimestre_num  \n",
      "0                 2  \n",
      "1                 2  \n",
      "2                 2  \n",
      "3                 3  \n",
      "4                 4  \n",
      "...             ...  \n",
      "71994             4  \n",
      "71995             4  \n",
      "71996             2  \n",
      "71997             3  \n",
      "71998             4  \n",
      "\n",
      "[71999 rows x 8 columns]\n"
     ]
    }
   ],
   "source": [
    "df_transacoes['trimestre'] = df_transacoes['trimestre'].astype(str)\n",
    "df_transacoes['trimestre_num'] = df_transacoes['trimestre'].str[-1:]\n",
    "print(df_transacoes)"
   ]
  },
  {
   "cell_type": "code",
   "execution_count": 97,
   "id": "53e40f79-0f48-48bc-bd7f-7a1a81f4800c",
   "metadata": {},
   "outputs": [],
   "source": [
    "df_transacoes['trimestre_num'] = df_transacoes['trimestre_num'].astype(np.int64)"
   ]
  },
  {
   "cell_type": "code",
   "execution_count": 102,
   "id": "1e318d58-f4bc-46b7-8919-a2ce50789de4",
   "metadata": {},
   "outputs": [
    {
     "name": "stdout",
     "output_type": "stream",
     "text": [
      "       cod_transacao  num_conta                   data_transacao  \\\n",
      "0               3100        256        2020-05-22 03:15:21+00:00   \n",
      "1              28405        256        2021-06-29 11:52:38+00:00   \n",
      "2               1776        512        2020-05-17 13:04:50+00:00   \n",
      "3              14311        512        2020-09-06 02:55:34+00:00   \n",
      "4              25012        512        2020-10-16 09:26:52+00:00   \n",
      "...              ...        ...                              ...   \n",
      "71994          17007        764 2022-12-29 23:59:59.746608+00:00   \n",
      "71995          22320        764 2022-12-29 23:59:59.055028+00:00   \n",
      "71996           8697        509        2012-05-07 13:45:41+00:00   \n",
      "71997          11574        766        2015-09-19 05:13:07+00:00   \n",
      "71998          64396        766 2022-12-29 23:59:59.607373+00:00   \n",
      "\n",
      "                         nome_transacao  valor_transacao  mes trimestre  \\\n",
      "0                                 Saque            130.0    5    2020Q2   \n",
      "1                                 Saque            255.0    6    2021Q2   \n",
      "2                                 Saque            250.0    5    2020Q2   \n",
      "3                                 Saque             80.0    9    2020Q3   \n",
      "4                                 Saque            475.0   10    2020Q4   \n",
      "...                                 ...              ...  ...       ...   \n",
      "71994  Transferência entre CC - Crédito             82.3   12    2022Q4   \n",
      "71995  Transferência entre CC - Crédito            414.8   12    2022Q4   \n",
      "71996  Transferência entre CC - Crédito            720.4    5    2012Q2   \n",
      "71997  Transferência entre CC - Crédito           1143.0    9    2015Q3   \n",
      "71998  Transferência entre CC - Crédito            420.7   12    2022Q4   \n",
      "\n",
      "       trimestre_num  \n",
      "0                  2  \n",
      "1                  2  \n",
      "2                  2  \n",
      "3                  3  \n",
      "4                  4  \n",
      "...              ...  \n",
      "71994              4  \n",
      "71995              4  \n",
      "71996              2  \n",
      "71997              3  \n",
      "71998              4  \n",
      "\n",
      "[71999 rows x 8 columns]\n"
     ]
    }
   ],
   "source": [
    "print(df_transacoes)"
   ]
  },
  {
   "cell_type": "markdown",
   "id": "25b3778e-8431-46a1-8163-dcf44bb567e6",
   "metadata": {},
   "source": [
    "Por fim, o agrupamento das movimentações por trimestre"
   ]
  },
  {
   "cell_type": "code",
   "execution_count": 106,
   "id": "54ca462d-088e-49f1-b8e1-1b6b25d53fa2",
   "metadata": {},
   "outputs": [
    {
     "name": "stdout",
     "output_type": "stream",
     "text": [
      "trimestre_num\n",
      "1     9660497.99\n",
      "2     8637318.23\n",
      "3    11720867.02\n",
      "4    28121869.34\n",
      "Name: valor_transacao, dtype: float64\n"
     ]
    }
   ],
   "source": [
    "movimentacoes_trimestre = df_transacoes.groupby('trimestre_num')['valor_transacao'].sum()\n",
    "print(movimentacoes_trimestre)"
   ]
  },
  {
   "cell_type": "markdown",
   "id": "3c254e95-3b10-49b1-a8dc-054ddd39d244",
   "metadata": {},
   "source": [
    "O trimestre com o maior volume de movimentação foi o 4"
   ]
  },
  {
   "cell_type": "markdown",
   "id": "806224c5-519f-44f1-9b8f-cfea8bf0a57b",
   "metadata": {},
   "source": [
    "Agora para obter a maior quantidade de transações"
   ]
  },
  {
   "cell_type": "code",
   "execution_count": 108,
   "id": "86248f0c-1f36-472f-9c10-4d5670f0164e",
   "metadata": {},
   "outputs": [
    {
     "name": "stdout",
     "output_type": "stream",
     "text": [
      "trimestre_num\n",
      "1    10813\n",
      "2    10991\n",
      "3    12190\n",
      "4    38005\n",
      "dtype: int64\n"
     ]
    }
   ],
   "source": [
    "movimentacoes_trimestre = df_transacoes.groupby('trimestre_num').size()\n",
    "print(movimentacoes_trimestre)"
   ]
  },
  {
   "cell_type": "markdown",
   "id": "722053f9-5dee-4fc2-b6f8-c711d538cf20",
   "metadata": {},
   "source": [
    "O trimestre com mais movimentações também foi o 4, com 38005 transações"
   ]
  },
  {
   "cell_type": "markdown",
   "id": "32700139-9bb4-485d-9f42-4a5f008f188b",
   "metadata": {},
   "source": [
    "Quanto a padronização de transações de meses com R ou sem, como já temos os meses em números, será utilizado da seguinte forma:\n",
    "1 - Janeiro (Conta)\n",
    "2 - Fevereiro (Conta)\n",
    "3 - Março (Conta)\n",
    "4 - Abril (Conta)\n",
    "5 - Maio (Não conta)\n",
    "6 - Junho (Não conta)\n",
    "7 - Julho (Não conta)\n",
    "8 - Agosto (Não conta)\n",
    "9 - Setembro (Conta)\n",
    "10 - Outubro (Conta)\n",
    "11 - Novembro (Conta) \n",
    "12 - Dezembro (Conta)\n",
    "\n",
    "Ou seja, apenas 4 meses estão divergentes"
   ]
  },
  {
   "cell_type": "markdown",
   "id": "7f38382b-2e0b-455e-a8fb-fe4d7dab3cdf",
   "metadata": {},
   "source": [
    "Analisando os padrões nos meses de 1 a 4, e 9 a 12, temos:"
   ]
  },
  {
   "cell_type": "code",
   "execution_count": 110,
   "id": "59669bd8-1914-4efa-ac1f-2bb4fe23d0a6",
   "metadata": {},
   "outputs": [
    {
     "name": "stdout",
     "output_type": "stream",
     "text": [
      "Movimentações janeiro a abril\n",
      "nome_transacao\n",
      "Compra Crédito                       280618.95\n",
      "Compra Débito                        210258.11\n",
      "DOC - Realizado                      474420.00\n",
      "DOC - Recebido                      3336730.00\n",
      "Depósito em espécie                  122634.34\n",
      "Estorno de Debito                      6320.99\n",
      "Pagamento de boleto                  118293.80\n",
      "Pix - Realizado                      824442.60\n",
      "Pix - Recebido                       412889.30\n",
      "Pix Saque                              2790.00\n",
      "Saque                                154225.00\n",
      "TED - Realizado                      983220.00\n",
      "TED - Recebido                      5836662.00\n",
      "Transferência entre CC - Crédito      48507.10\n",
      "Transferência entre CC - Débito       37555.10\n",
      "Name: valor_transacao, dtype: float64\n",
      "Movimentações maio a agosto\n",
      "nome_transacao\n",
      "Compra Crédito                       312351.94\n",
      "Compra Débito                        223835.05\n",
      "DOC - Realizado                      528170.00\n",
      "DOC - Recebido                      3182985.00\n",
      "Depósito em espécie                  134773.04\n",
      "Estorno de Debito                      6016.54\n",
      "Pagamento de boleto                  146857.20\n",
      "Pix - Realizado                      870103.90\n",
      "Pix - Recebido                       412189.00\n",
      "Pix Saque                              4435.00\n",
      "Saque                                186445.00\n",
      "TED - Realizado                     1049250.00\n",
      "TED - Recebido                      5514975.00\n",
      "Transferência entre CC - Crédito      74383.60\n",
      "Transferência entre CC - Débito       36831.30\n",
      "Name: valor_transacao, dtype: float64\n",
      "Movimentações setembro a dezembro\n",
      "nome_transacao\n",
      "Compra Crédito                        733562.90\n",
      "Compra Débito                         507500.34\n",
      "DOC - Realizado                      1323900.00\n",
      "DOC - Recebido                       7230460.00\n",
      "Depósito em espécie                   183758.29\n",
      "Estorno de Debito                      12857.39\n",
      "Pagamento de boleto                   250762.20\n",
      "Pix - Realizado                      5062319.00\n",
      "Pix - Recebido                       2239009.90\n",
      "Pix Saque                              19080.00\n",
      "Saque                                 421170.00\n",
      "TED - Realizado                      1378740.00\n",
      "TED - Recebido                      13032199.00\n",
      "Transferência entre CC - Crédito      135653.00\n",
      "Transferência entre CC - Débito        76411.70\n",
      "Name: valor_transacao, dtype: float64\n"
     ]
    }
   ],
   "source": [
    "#Analisando os meses de janeiro a abril\n",
    "#criando dataset para os meses\n",
    "df_mov_janeiro_abril = df_transacoes[(df_transacoes['mes'] >=1) & (df_transacoes['mes'] <=4)]\n",
    "df_mov_setembro_dezembro = df_transacoes[(df_transacoes['mes'] >=9) & (df_transacoes['mes'] <=12)]\n",
    "df_mov_maio_agosto = df_transacoes[(df_transacoes['mes'] >=5) & (df_transacoes['mes'] <=8)]\n",
    "\n",
    "#agrupando\n",
    "res_mov_janeiro_abril = df_mov_janeiro_abril.groupby('nome_transacao')['valor_transacao'].sum()\n",
    "res_mov_setembro_dezembro = df_mov_setembro_dezembro.groupby('nome_transacao')['valor_transacao'].sum()\n",
    "res_mov_maio_agosto = df_mov_maio_agosto.groupby('nome_transacao')['valor_transacao'].sum()\n",
    "\n",
    "\n",
    "print('Movimentações janeiro a abril')\n",
    "print(res_mov_janeiro_abril)\n",
    "\n",
    "print('Movimentações maio a agosto')\n",
    "print(res_mov_maio_agosto)\n",
    "\n",
    "print('Movimentações setembro a dezembro')\n",
    "print(res_mov_setembro_dezembro)\n"
   ]
  },
  {
   "cell_type": "code",
   "execution_count": null,
   "id": "bd90e6d7-04f1-42e8-80ad-2edfbcb95e76",
   "metadata": {},
   "outputs": [],
   "source": []
  }
 ],
 "metadata": {
  "kernelspec": {
   "display_name": "Python 3 (ipykernel)",
   "language": "python",
   "name": "python3"
  },
  "language_info": {
   "codemirror_mode": {
    "name": "ipython",
    "version": 3
   },
   "file_extension": ".py",
   "mimetype": "text/x-python",
   "name": "python",
   "nbconvert_exporter": "python",
   "pygments_lexer": "ipython3",
   "version": "3.12.1"
  }
 },
 "nbformat": 4,
 "nbformat_minor": 5
}
